{
 "cells": [
  {
   "cell_type": "markdown",
   "id": "9c549e2e",
   "metadata": {},
   "source": [
    "# **VIX Backtesting Around Fed Rate Announcements**\n",
    "This project analyzes whether buying the VIX the day before Federal Reserve (FOMC) rate announcements and selling it at the close of announcement day is historically profitable.\n",
    "\n",
    "---\n",
    "\n",
    "## **Executive Summary**\n",
    "- **Objective:** Test if anticipated volatility around FOMC announcements offers a tradable edge in VIX.\n",
    "- **Approach:** Scrape FOMC meeting dates, fetch VIX data, simulate trades (T-1 buy → T sell), and calculate performance metrics.\n",
    "- **Key Findings:**\n",
    "  - Win rate: historically poor\n",
    "  - Max drawdown: extremely high\n",
    "  - Cumulative loss: -99.43%\n",
    "\n",
    "Conclusion: **This naive volatility timing strategy is not robust and would have destroyed capital.**\n"
   ]
  },
  {
   "cell_type": "markdown",
   "id": "bb205672",
   "metadata": {},
   "source": [
    "## **Background**\n",
    "Stocks plunged on Wednesday, 12/18/24 after Fed Chair Jerome Powell's inflationary guidance that accompanied a 25 bps rate cut. My friend told me that he bought 2x leveraged VIX shares having anticipated that \"no matter what the announcement was\", volatility would be significant and VIX would move up. Indeed, VIX soared ~50% that day. I was curious to see if this would actually work historically.\n"
   ]
  },
  {
   "cell_type": "markdown",
   "id": "faa36f49",
   "metadata": {},
   "source": [
    "## **Step 1: Data Acquisition (VIX Prices)"
   ]
  },
  {
   "cell_type": "code",
   "execution_count": null,
   "id": "9725a729",
   "metadata": {},
   "outputs": [],
   "source": [
    "import yfinance as yf\n",
    "import pandas as pd\n",
    "import numpy as np\n",
    "\n",
    "# Download daily VIX data\n",
    "vix_data = yf.download(\"^VIX\", start=\"1990-01-01\", end=\"2024-12-19\", interval=\"1d\")\n",
    "vix_daily = vix_data[['Open','Close']].reset_index()\n",
    "vix_daily.head()"
   ]
  },
  {
   "cell_type": "markdown",
   "id": "1945d4d5",
   "metadata": {},
   "source": [
    "## **Step 2: Scrape FOMC Meeting Dates**\n",
    "We extract all scheduled FOMC rate decision dates (excluding unscheduled/emergency meetings)."
   ]
  },
  {
   "cell_type": "code",
   "execution_count": null,
   "id": "45ca0bac",
   "metadata": {},
   "outputs": [],
   "source": [
    "import requests\n",
    "from bs4 import BeautifulSoup\n",
    "import os\n",
    "from datetime import datetime\n",
    "\n",
    "fed_dates = []\n",
    "\n",
    "def extract_fomc_second_dates(html):\n",
    "    soup = BeautifulSoup(html,'html.parser')\n",
    "    elements = soup.find_all('h5', class_='panel-heading panel-heading--shaded')\n",
    "    legacy_elements = soup.select('div.panel-heading > h5')\n",
    "    elements.extend(legacy_elements)\n",
    "\n",
    "    for el in elements:\n",
    "        text = el.get_text(strip=True)\n",
    "        parts = text.split(' ')\n",
    "        if len(parts) < 3 or \"(unscheduled)\" in text or \"Call\" in text:\n",
    "            continue\n",
    "        try:\n",
    "            date_str = ' '.join(parts[-3:]).replace(',','')\n",
    "            date = datetime.strptime(date_str, \"%B %d %Y\").strftime('%Y-%m-%d')\n",
    "            fed_dates.append(date)\n",
    "        except:\n",
    "            continue\n",
    "\n",
    "# Scrape historical pages (1990–2018)\n",
    "for yr in range(1990,2019):\n",
    "    url = f'https://www.federalreserve.gov/monetarypolicy/fomchistorical{yr}.htm'\n",
    "    html = requests.get(url).text\n",
    "    extract_fomc_second_dates(html)\n",
    "\n",
    "# Scrape modern calendar (2019+)\n",
    "def scrape_fomc_dates_new(url):\n",
    "    response = requests.get(url)\n",
    "    soup = BeautifulSoup(response.text,'html.parser')\n",
    "    for section in soup.find_all('div', class_='panel panel-default'):\n",
    "        year_text = section.find('div', class_='panel-heading').get_text(strip=True)\n",
    "        year = year_text.split(' ')[0]\n",
    "        for row in section.select('tr.shadedrow, tr'):\n",
    "            cells = row.find_all('td')\n",
    "            if not cells: continue\n",
    "            date_text = cells[0].get_text(strip=True)\n",
    "            if \"unscheduled\" in date_text.lower(): continue\n",
    "            try:\n",
    "                date = datetime.strptime(date_text,\"%B %d, %Y\").strftime('%Y-%m-%d')\n",
    "                fed_dates.append(date)\n",
    "            except:\n",
    "                continue\n",
    "\n",
    "scrape_fomc_dates_new(\"https://www.federalreserve.gov/monetarypolicy/fomccalendars.htm\")\n",
    "len(fed_dates)"
   ]
  },
  {
   "cell_type": "markdown",
   "id": "3b06861f",
   "metadata": {},
   "source": [
    "## **Step 3: Backtesting Logic**\n",
    "We simulate:\n",
    "- **Buy:** VIX at close of day before FOMC date  \n",
    "- **Sell:** VIX at close of FOMC date  \n",
    "\n",
    "We then compute % gains, win rate, drawdowns, and cumulative portfolio return."
   ]
  },
  {
   "cell_type": "code",
   "execution_count": null,
   "id": "00b4b434",
   "metadata": {},
   "outputs": [],
   "source": [
    "vix_daily['Date'] = pd.to_datetime(vix_daily['Date'])\n",
    "fed_dates = pd.to_datetime(fed_dates)\n",
    "t_minus_1 = [d - pd.Timedelta(days=1) for d in fed_dates]\n",
    "\n",
    "trades = []\n",
    "for i, fed_date in enumerate(fed_dates):\n",
    "    day_before = vix_daily[vix_daily['Date'] == t_minus_1[i]]\n",
    "    fed_day = vix_daily[vix_daily['Date'] == fed_date]\n",
    "    if day_before.empty or fed_day.empty:\n",
    "        continue\n",
    "    t1_close = day_before.iloc[0]['Close']\n",
    "    t_close = fed_day.iloc[0]['Close']\n",
    "    profit_pct = (t_close - t1_close) / t1_close * 100\n",
    "    trades.append({'Fed Date':fed_date,'t-1 Close':t1_close,'t Close':t_close,'Profit %':profit_pct})\n",
    "\n",
    "results = pd.DataFrame(trades)\n",
    "results.head()"
   ]
  },
  {
   "cell_type": "code",
   "execution_count": null,
   "id": "b481a952",
   "metadata": {},
   "outputs": [],
   "source": [
    "import matplotlib.pyplot as plt\n",
    "\n",
    "# Metrics\n",
    "win_rate = (results['Profit %']>0).mean()*100\n",
    "max_drawdown = results['Profit %'].min()\n",
    "max_win = results['Profit %'].max()\n",
    "initial_value=10000\n",
    "portfolio=initial_value\n",
    "for p in results['Profit %']:\n",
    "    portfolio *= (1+p/100)\n",
    "cumulative_return=(portfolio/initial_value-1)*100\n",
    "\n",
    "print(f\"Win Rate: {win_rate:.2f}%\")\n",
    "print(f\"Max Drawdown: {max_drawdown:.2f}%\")\n",
    "print(f\"Max Win: {max_win:.2f}%\")\n",
    "print(f\"Cumulative Return: {cumulative_return:.2f}% (Final Value: ${portfolio:.2f})\")\n",
    "\n",
    "# Plot distribution of returns\n",
    "plt.hist(results['Profit %'], bins=20, edgecolor='black')\n",
    "plt.title(\"Distribution of VIX Strategy Returns\")\n",
    "plt.xlabel(\"Profit %\")\n",
    "plt.ylabel(\"Frequency\")\n",
    "plt.show()"
   ]
  },
  {
   "cell_type": "markdown",
   "id": "d0e16f9e",
   "metadata": {},
   "source": [
    "## **Conclusion**\n",
    "- Strategy win rate is poor, cumulative returns are catastrophic (-99.43%).\n",
    "- Anticipating volatility by buying VIX pre-FOMC announcements is not robust.\n",
    "- Further enhancements could involve:\n",
    "  - Implied vs realized volatility spreads\n",
    "  - Options backtesting (e.g., straddles pre-announcement)\n",
    "  - Using intraday data, which I could not access\n",
    "\n"
   ]
  }
 ],
 "metadata": {
  "language_info": {
   "name": "python"
  }
 },
 "nbformat": 4,
 "nbformat_minor": 5
}
